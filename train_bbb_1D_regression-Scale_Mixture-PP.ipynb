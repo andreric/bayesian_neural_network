{
 "cells": [
  {
   "cell_type": "markdown",
   "metadata": {},
   "source": [
    "# Imports"
   ]
  },
  {
   "cell_type": "code",
   "execution_count": 1,
   "metadata": {},
   "outputs": [],
   "source": [
    "%matplotlib inline\n",
    "import math\n",
    "import matplotlib.pyplot as plt\n",
    "import numpy as np\n",
    "import seaborn as sns\n",
    "import torch\n",
    "import torch.nn as nn\n",
    "import torch.nn.functional as F\n",
    "import torch.optim as optim\n",
    "from torch.optim.lr_scheduler import ExponentialLR\n",
    "\n",
    "# from tensorboardX import SummaryWriter\n",
    "# from torchvision import datasets, transforms\n",
    "# from torchvision.utils import make_grid\n",
    "# from tqdm import tqdm, trange\n",
    "\n",
    "# writer = SummaryWriter()\n",
    "sns.set()\n",
    "sns.set_style(\"dark\")\n",
    "sns.set_palette(\"muted\")\n",
    "sns.set_color_codes(\"muted\")"
   ]
  },
  {
   "cell_type": "code",
   "execution_count": 2,
   "metadata": {},
   "outputs": [
    {
     "name": "stdout",
     "output_type": "stream",
     "text": [
      "GPU available? False\n"
     ]
    }
   ],
   "source": [
    "DEVICE = torch.device(\"cuda\" if torch.cuda.is_available() else \"cpu\")\n",
    "LOADER_KWARGS = {'num_workers': 1, 'pin_memory': True} if torch.cuda.is_available() else {}\n",
    "print('GPU available? {}'.format(torch.cuda.is_available()))"
   ]
  },
  {
   "cell_type": "markdown",
   "metadata": {},
   "source": [
    "# Generate dataset"
   ]
  },
  {
   "cell_type": "code",
   "execution_count": 3,
   "metadata": {},
   "outputs": [],
   "source": [
    "def toy_function(N):\n",
    "    \n",
    "    noise_std = 0.02\n",
    "    eps_train = noise_std*np.random.randn(N,)\n",
    "    eps_test =  noise_std*np.random.randn(int(N*0.5),)\n",
    "    \n",
    "    \n",
    "    x_train = np.linspace(0, 0.5, N, endpoint=True, dtype =np.float32)\n",
    "    x_test =  np.linspace(-1, 1, int(N*0.5), endpoint=True, dtype =np.float32)\n",
    "    \n",
    "    y_train = x_train + 0.3*np.sin(2*np.pi*(x_train + eps_train)) + 0.3*np.sin(4*np.pi*(x_train + eps_train)) + eps_train\n",
    "    y_test =  x_test + 0.3*np.sin(2*np.pi*(x_test + eps_test)) + 0.3*np.sin(4*np.pi*(x_test + eps_test)) + eps_test\n",
    "    \n",
    "    x_train = np.atleast_2d(x_train).T\n",
    "    x_test = np.atleast_2d(x_test).T\n",
    "    \n",
    "    x_train_tensor = torch.Tensor(x_train)\n",
    "    y_train_tensor = torch.Tensor(y_train)\n",
    "    x_test_tensor =  torch.Tensor(x_test)\n",
    "    y_test_tensor =  torch.Tensor(y_test)\n",
    "    \n",
    "    plt.plot(x_train, y_train, 'rs', label='train')\n",
    "    plt.plot(x_test, y_test, 'k.', label='test')\n",
    "    plt.legend()\n",
    "    plt.show()\n",
    "\n",
    "    return x_train_tensor, y_train_tensor, x_test_tensor, y_test_tensor"
   ]
  },
  {
   "cell_type": "code",
   "execution_count": 4,
   "metadata": {},
   "outputs": [
    {
     "data": {
      "image/png": "[encoded data removed]",
      "text/plain": [
       "<Figure size 432x288 with 1 Axes>"
      ]
     },
     "metadata": {},
     "output_type": "display_data"
    }
   ],
   "source": [
    "x_train, y_train, x_test, y_test = toy_function(50)"
   ]
  },
  {
   "cell_type": "markdown",
   "metadata": {},
   "source": [
    "# Bayes-by-Backprop"
   ]
  },
  {
   "cell_type": "code",
   "execution_count": 6,
   "metadata": {},
   "outputs": [
    {
     "name": "stdout",
     "output_type": "stream",
     "text": [
      "0\n",
      "1\n"
     ]
    },
    {
     "name": "stderr",
     "output_type": "stream",
     "text": [
      "/anaconda3/lib/python3.6/site-packages/ipykernel_launcher.py:11: UserWarning: To copy construct from a tensor, it is recommended to use sourceTensor.clone().detach() or sourceTensor.clone().detach().requires_grad_(True), rather than torch.tensor(sourceTensor).\n",
      "  # This is added back by InteractiveShellApp.init_path()\n",
      "/anaconda3/lib/python3.6/site-packages/ipykernel_launcher.py:12: UserWarning: To copy construct from a tensor, it is recommended to use sourceTensor.clone().detach() or sourceTensor.clone().detach().requires_grad_(True), rather than torch.tensor(sourceTensor).\n",
      "  if sys.path[0] == '':\n"
     ]
    },
    {
     "ename": "RuntimeError",
     "evalue": "Trying to backward through the graph a second time, but the buffers have already been freed. Specify retain_graph=True when calling backward the first time.",
     "output_type": "error",
     "traceback": [
      "\u001b[0;31m---------------------------------------------------------------------------\u001b[0m",
      "\u001b[0;31mRuntimeError\u001b[0m                              Traceback (most recent call last)",
      "\u001b[0;32m<ipython-input-6-21c466c59735>\u001b[0m in \u001b[0;36m<module>\u001b[0;34m()\u001b[0m\n\u001b[1;32m     22\u001b[0m     \u001b[0;31m# forward + backward + optimize\u001b[0m\u001b[0;34m\u001b[0m\u001b[0;34m\u001b[0m\u001b[0m\n\u001b[1;32m     23\u001b[0m     \u001b[0mloss\u001b[0m \u001b[0;34m=\u001b[0m \u001b[0mnet\u001b[0m\u001b[0;34m.\u001b[0m\u001b[0msample_elbo\u001b[0m\u001b[0;34m(\u001b[0m\u001b[0mdata\u001b[0m\u001b[0;34m,\u001b[0m \u001b[0mtarget\u001b[0m\u001b[0;34m,\u001b[0m \u001b[0;36m1\u001b[0m\u001b[0;34m)\u001b[0m\u001b[0;34m\u001b[0m\u001b[0m\n\u001b[0;32m---> 24\u001b[0;31m     \u001b[0mloss\u001b[0m\u001b[0;34m.\u001b[0m\u001b[0mbackward\u001b[0m\u001b[0;34m(\u001b[0m\u001b[0;34m)\u001b[0m\u001b[0;34m\u001b[0m\u001b[0m\n\u001b[0m\u001b[1;32m     25\u001b[0m     \u001b[0moptimizer\u001b[0m\u001b[0;34m.\u001b[0m\u001b[0mstep\u001b[0m\u001b[0;34m(\u001b[0m\u001b[0;34m)\u001b[0m\u001b[0;34m\u001b[0m\u001b[0m\n\u001b[1;32m     26\u001b[0m \u001b[0;34m\u001b[0m\u001b[0m\n",
      "\u001b[0;32m/anaconda3/lib/python3.6/site-packages/torch/tensor.py\u001b[0m in \u001b[0;36mbackward\u001b[0;34m(self, gradient, retain_graph, create_graph)\u001b[0m\n\u001b[1;32m    100\u001b[0m                 \u001b[0mproducts\u001b[0m\u001b[0;34m.\u001b[0m \u001b[0mDefaults\u001b[0m \u001b[0mto\u001b[0m\u001b[0;31m \u001b[0m\u001b[0;31m`\u001b[0m\u001b[0;31m`\u001b[0m\u001b[0;32mFalse\u001b[0m\u001b[0;31m`\u001b[0m\u001b[0;31m`\u001b[0m\u001b[0;34m.\u001b[0m\u001b[0;34m\u001b[0m\u001b[0m\n\u001b[1;32m    101\u001b[0m         \"\"\"\n\u001b[0;32m--> 102\u001b[0;31m         \u001b[0mtorch\u001b[0m\u001b[0;34m.\u001b[0m\u001b[0mautograd\u001b[0m\u001b[0;34m.\u001b[0m\u001b[0mbackward\u001b[0m\u001b[0;34m(\u001b[0m\u001b[0mself\u001b[0m\u001b[0;34m,\u001b[0m \u001b[0mgradient\u001b[0m\u001b[0;34m,\u001b[0m \u001b[0mretain_graph\u001b[0m\u001b[0;34m,\u001b[0m \u001b[0mcreate_graph\u001b[0m\u001b[0;34m)\u001b[0m\u001b[0;34m\u001b[0m\u001b[0m\n\u001b[0m\u001b[1;32m    103\u001b[0m \u001b[0;34m\u001b[0m\u001b[0m\n\u001b[1;32m    104\u001b[0m     \u001b[0;32mdef\u001b[0m \u001b[0mregister_hook\u001b[0m\u001b[0;34m(\u001b[0m\u001b[0mself\u001b[0m\u001b[0;34m,\u001b[0m \u001b[0mhook\u001b[0m\u001b[0;34m)\u001b[0m\u001b[0;34m:\u001b[0m\u001b[0;34m\u001b[0m\u001b[0m\n",
      "\u001b[0;32m/anaconda3/lib/python3.6/site-packages/torch/autograd/__init__.py\u001b[0m in \u001b[0;36mbackward\u001b[0;34m(tensors, grad_tensors, retain_graph, create_graph, grad_variables)\u001b[0m\n\u001b[1;32m     88\u001b[0m     Variable._execution_engine.run_backward(\n\u001b[1;32m     89\u001b[0m         \u001b[0mtensors\u001b[0m\u001b[0;34m,\u001b[0m \u001b[0mgrad_tensors\u001b[0m\u001b[0;34m,\u001b[0m \u001b[0mretain_graph\u001b[0m\u001b[0;34m,\u001b[0m \u001b[0mcreate_graph\u001b[0m\u001b[0;34m,\u001b[0m\u001b[0;34m\u001b[0m\u001b[0m\n\u001b[0;32m---> 90\u001b[0;31m         allow_unreachable=True)  # allow_unreachable flag\n\u001b[0m\u001b[1;32m     91\u001b[0m \u001b[0;34m\u001b[0m\u001b[0m\n\u001b[1;32m     92\u001b[0m \u001b[0;34m\u001b[0m\u001b[0m\n",
      "\u001b[0;31mRuntimeError\u001b[0m: Trying to backward through the graph a second time, but the buffers have already been freed. Specify retain_graph=True when calling backward the first time."
     ]
    }
   ],
   "source": [
    "from BBB_SMPP import MLP_BBB\n",
    "\n",
    "prior_pi = 0.5\n",
    "prior_sigma1 = 1 \n",
    "prior_sigma2 = 10\n",
    "net = MLP_BBB(1, 1, [5, 5], prior_pi, prior_sigma1, prior_sigma2, noise_tol=0.02)\n",
    "\n",
    "net.to(DEVICE)\n",
    "net.train()\n",
    "\n",
    "data = torch.tensor(x_train, dtype=torch.float32).to(DEVICE)\n",
    "target = torch.tensor(y_train, dtype=torch.float32).to(DEVICE)\n",
    "\n",
    "optimizer = optim.Adam(net.parameters(), lr=1e-2)\n",
    "epochs = 5000\n",
    "\n",
    "loss_arr = list()\n",
    "# for epoch in tqdm(range(epochs)):  # loop over the dataset multiple times\n",
    "for epoch in range(epochs):  # loop over the dataset multiple times\n",
    "    print(epoch)\n",
    "    optimizer.zero_grad()\n",
    "    # forward + backward + optimize\n",
    "    loss = net.sample_elbo(data, target, 1)\n",
    "    loss.backward()\n",
    "    optimizer.step()\n",
    "    \n",
    "    loss_arr.append(loss.item())\n",
    "\n",
    "print('Finished Training')\n",
    "\n",
    "plt.plot(loss_arr)\n",
    "# plt.yscale('log')\n",
    "plt.title('Loss during training')\n",
    "plt.show()"
   ]
  },
  {
   "cell_type": "code",
   "execution_count": null,
   "metadata": {},
   "outputs": [],
   "source": [
    "loss_arr"
   ]
  },
  {
   "cell_type": "code",
   "execution_count": null,
   "metadata": {},
   "outputs": [],
   "source": [
    "n_post_samples = 100\n",
    "post_dist = np.zeros((len(x_test), n_post_samples + 1)) \n",
    "\n",
    "data_ts = torch.tensor(x_test, dtype=torch.float32)\n",
    "target_ts = torch.tensor(y_test, dtype=torch.float32)\n",
    "\n",
    "net.eval()\n",
    "with torch.no_grad():\n",
    "    for j in range(n_post_samples): \n",
    "        post_dist[:, j] = net(data_ts).detach().numpy().ravel()\n",
    "    post_dist[:, n_post_samples] = net(data_ts).detach().numpy().ravel()\n",
    "\n",
    "y_mean = post_dist.mean(axis=1)\n",
    "sigma = post_dist.std(axis=1)\n",
    "\n",
    "plt.plot(x_train.numpy(), y_train.numpy(), 'k*', label='Train points')\n",
    "plt.plot(x_test.numpy(), y_test.numpy(), 'ro', label='Test points')\n",
    "plt.plot(x_test.numpy(), y_mean, 'b-', label='Test predictions')\n",
    "plt.fill(np.concatenate([x_test.numpy(), x_test.numpy()[::-1]]),\n",
    "         np.concatenate([y_mean - 1.9600 * sigma,\n",
    "                        (y_mean + 1.9600 * sigma)[::-1]]),\n",
    "         alpha=.5, fc='b', ec='None', label='95% confidence interval')\n",
    "plt.legend()\n",
    "plt.show()"
   ]
  },
  {
   "cell_type": "code",
   "execution_count": null,
   "metadata": {},
   "outputs": [],
   "source": [
    "n_post_samples = 100\n",
    "post_dist = np.zeros((len(x_test), n_post_samples + 1)) \n",
    "\n",
    "data_ts = torch.tensor(x_test, dtype=torch.float32)\n",
    "target_ts = torch.tensor(y_test, dtype=torch.float32)\n",
    "\n",
    "net.eval()\n",
    "with torch.no_grad():\n",
    "    for j in range(n_post_samples): \n",
    "        post_dist[:, j] = net(data_ts).detach().numpy().ravel()\n",
    "\n",
    "y_mean = post_dist.mean(axis=1)\n",
    "sigma = post_dist.std(axis=1)\n",
    "\n",
    "plt.plot(x_train.numpy(), y_train.numpy(), 'k*', label='Train points')\n",
    "plt.plot(x_test.numpy(), y_test.numpy(), 'ro', label='Test points')\n",
    "plt.plot(x_test.numpy(), y_mean, 'b-', label='Test predictions')\n",
    "plt.fill(np.concatenate([x_test.numpy(), x_test.numpy()[::-1]]),\n",
    "         np.concatenate([y_mean - 1.9600 * sigma,\n",
    "                        (y_mean + 1.9600 * sigma)[::-1]]),\n",
    "         alpha=.5, fc='b', ec='None', label='95% confidence interval')\n",
    "plt.legend()\n",
    "plt.show()"
   ]
  },
  {
   "cell_type": "code",
   "execution_count": null,
   "metadata": {},
   "outputs": [],
   "source": []
  }
 ],
 "metadata": {
  "kernelspec": {
   "display_name": "Python 3",
   "language": "python",
   "name": "python3"
  },
  "language_info": {
   "codemirror_mode": {
    "name": "ipython",
    "version": 3
   },
   "file_extension": ".py",
   "mimetype": "text/x-python",
   "name": "python",
   "nbconvert_exporter": "python",
   "pygments_lexer": "ipython3",
   "version": "3.7.1"
  }
 },
 "nbformat": 4,
 "nbformat_minor": 2
}
