{
 "cells": [
  {
   "cell_type": "markdown",
   "metadata": {},
   "source": [
    "# Imports"
   ]
  },
  {
   "cell_type": "code",
   "execution_count": 1,
   "metadata": {},
   "outputs": [],
   "source": [
    "%matplotlib inline\n",
    "import math\n",
    "import matplotlib.pyplot as plt\n",
    "import numpy as np\n",
    "import seaborn as sns\n",
    "import torch\n",
    "import torch.nn as nn\n",
    "import torch.nn.functional as F\n",
    "import torch.optim as optim\n",
    "from torch.optim.lr_scheduler import ExponentialLR\n",
    "\n",
    "# from tensorboardX import SummaryWriter\n",
    "# from torchvision import datasets, transforms\n",
    "# from torchvision.utils import make_grid\n",
    "from tqdm import tqdm, trange\n",
    "\n",
    "# writer = SummaryWriter()\n",
    "sns.set()\n",
    "sns.set_style(\"dark\")\n",
    "sns.set_palette(\"muted\")\n",
    "sns.set_color_codes(\"muted\")"
   ]
  },
  {
   "cell_type": "code",
   "execution_count": 2,
   "metadata": {},
   "outputs": [
    {
     "name": "stdout",
     "output_type": "stream",
     "text": [
      "GPU available? False\n"
     ]
    }
   ],
   "source": [
    "DEVICE = torch.device(\"cuda\" if torch.cuda.is_available() else \"cpu\")\n",
    "LOADER_KWARGS = {'num_workers': 1, 'pin_memory': True} if torch.cuda.is_available() else {}\n",
    "print('GPU available? {}'.format(torch.cuda.is_available()))"
   ]
  },
  {
   "cell_type": "markdown",
   "metadata": {},
   "source": [
    "# Generate dataset"
   ]
  },
  {
   "cell_type": "code",
   "execution_count": 3,
   "metadata": {},
   "outputs": [],
   "source": [
    "def toy_function(N):\n",
    "    \n",
    "    noise_std = 0.02\n",
    "    eps_train = noise_std*np.random.randn(N,)\n",
    "    eps_test =  noise_std*np.random.randn(int(N*0.5),)\n",
    "    \n",
    "    \n",
    "    x_train = np.linspace(0, 0.5, N, endpoint=True, dtype =np.float32)\n",
    "    x_test =  np.linspace(-1, 1, int(N*0.5), endpoint=True, dtype =np.float32)\n",
    "    \n",
    "    y_train = x_train + 0.3*np.sin(2*np.pi*(x_train + eps_train)) + 0.3*np.sin(4*np.pi*(x_train + eps_train)) + eps_train\n",
    "    y_test =  x_test + 0.3*np.sin(2*np.pi*(x_test + eps_test)) + 0.3*np.sin(4*np.pi*(x_test + eps_test)) + eps_test\n",
    "    \n",
    "    x_train = np.atleast_2d(x_train).T\n",
    "    x_test = np.atleast_2d(x_test).T\n",
    "    \n",
    "    x_train_tensor = torch.Tensor(x_train)\n",
    "    y_train_tensor = torch.Tensor(y_train)\n",
    "    x_test_tensor =  torch.Tensor(x_test)\n",
    "    y_test_tensor =  torch.Tensor(y_test)\n",
    "    \n",
    "    plt.plot(x_train, y_train, 'rs', label='train')\n",
    "    plt.plot(x_test, y_test, 'k.', label='test')\n",
    "    plt.legend()\n",
    "    plt.show()\n",
    "\n",
    "    return x_train_tensor, y_train_tensor, x_test_tensor, y_test_tensor"
   ]
  },
  {
   "cell_type": "code",
   "execution_count": 4,
   "metadata": {},
   "outputs": [
    {
     "data": {
      "image/png": "[encoded data removed]",
      "text/plain": [
       "<Figure size 432x288 with 1 Axes>"
      ]
     },
     "metadata": {
      "needs_background": "light"
     },
     "output_type": "display_data"
    }
   ],
   "source": [
    "x_train, y_train, x_test, y_test = toy_function(50)"
   ]
  },
  {
   "cell_type": "code",
   "execution_count": null,
   "metadata": {},
   "outputs": [],
   "source": [
    "# N = 30\n",
    "# x_train = np.random.uniform(0.3, 2.5, N).astype(np.float32)\n",
    "# x_test =  np.linspace(0, 3, N*4, endpoint=True, dtype =np.float32)\n",
    "# eps = 0.02*np.random.randn(N,)\n",
    "# y_train = 0.4*x_train + 0.8*np.sin(2*np.pi*(x_train + eps)) + 0.8*np.sin(4*np.pi*(x_train + eps)) + eps\n",
    "# eps = 0.02*np.random.randn(N*4,)\n",
    "# y_test = 0.2*x_test + 0.8*np.sin(2*np.pi*(x_test + eps)) + 0.8*np.sin(4*np.pi*(x_test + eps)) + eps\n",
    "\n",
    "# x_train = np.atleast_2d(x_train).T\n",
    "# x_test = np.atleast_2d(x_test).T\n",
    "\n",
    "# plt.plot(x_train, y_train, 'rs', label='train')\n",
    "# plt.plot(x_test, y_test, 'k.', label='test')\n",
    "# plt.legend()\n",
    "# plt.show()\n",
    "\n"
   ]
  },
  {
   "cell_type": "markdown",
   "metadata": {},
   "source": [
    "# Standard MLP"
   ]
  },
  {
   "cell_type": "code",
   "execution_count": null,
   "metadata": {},
   "outputs": [],
   "source": [
    "class NeuralNetwork(nn.Module):\n",
    "    def __init__(self, input_size, output_size, arch):\n",
    "        self.input_size = input_size\n",
    "        self.output_size = output_size\n",
    "        self.arch = arch\n",
    "        self.num_hidden_layers = len(arch)\n",
    "        \n",
    "        super().__init__()\n",
    "\n",
    "        self.layers = nn.ModuleList([nn.Linear(input_size, arch[0])])  # input layer\n",
    "        self.layers.extend([nn.Linear(arch[i-1], arch[i]) for i in range(1, self.num_hidden_layers)])  # hidden layers\n",
    "        self.layers.append(nn.Linear(arch[-1], output_size))  # output layers\n",
    "    \n",
    "    def forward(self, x):\n",
    "        x = x.view(-1, self.input_size)\n",
    "        for i in range(len(self.layers)-1):\n",
    "            x = torch.tanh(self.layers[i](x))\n",
    "        x = self.layers[-1](x)\n",
    "        return x.squeeze()\n",
    "    \n",
    "nnet = NeuralNetwork(1, 1, [10, 10]) #.to(DEVICE)\n",
    "\n"
   ]
  },
  {
   "cell_type": "code",
   "execution_count": null,
   "metadata": {},
   "outputs": [],
   "source": [
    "TRAIN_EPOCHS = 2000\n",
    "\n",
    "optimizer = optim.Adam(nnet.parameters(), lr=1e-2)\n",
    "criterion = nn.MSELoss()# Mean Squared Loss\n",
    "\n",
    "nnet.train()\n",
    "\n",
    "data = torch.tensor(x_train, dtype=torch.float32)\n",
    "target = torch.tensor(y_train, dtype=torch.float32)\n",
    "\n",
    "losses = list()\n",
    "for epoch in range(TRAIN_EPOCHS):\n",
    "\n",
    "    optimizer.zero_grad()\n",
    "    outputs = nnet(data)\n",
    "    loss = criterion(outputs, target)\n",
    "\n",
    "    losses.append(loss.item())\n",
    "    loss.backward()\n",
    "    optimizer.step()\n",
    "    \n",
    "\n",
    "plt.plot(losses)\n",
    "plt.show()"
   ]
  },
  {
   "cell_type": "code",
   "execution_count": null,
   "metadata": {},
   "outputs": [],
   "source": [
    "# for name, param in nnet.named_parameters():\n",
    "#     if param.requires_grad:\n",
    "#         print('{} : {}'.format(name, param.data))"
   ]
  },
  {
   "cell_type": "code",
   "execution_count": null,
   "metadata": {},
   "outputs": [],
   "source": [
    "nnet.eval()\n",
    "with torch.no_grad():\n",
    "    y_pred = nnet(x_test).numpy()\n",
    "    \n",
    "plt.figure()\n",
    "plt.plot(x_train.numpy(), y_train.numpy(), 'rs', label='Train points')\n",
    "plt.plot(x_test.numpy(), y_test.numpy(), 'k.', markersize=10, label='Test points')\n",
    "plt.plot(x_test.numpy(), y_pred, 'b-', label='Test predictions')\n",
    "plt.xlabel('$x$')\n",
    "plt.ylabel('$f(x)$')\n",
    "plt.legend(loc='upper left')\n",
    "plt.show()"
   ]
  },
  {
   "cell_type": "markdown",
   "metadata": {},
   "source": [
    "# Gaussian Process"
   ]
  },
  {
   "cell_type": "code",
   "execution_count": null,
   "metadata": {},
   "outputs": [],
   "source": [
    "import numpy as np\n",
    "from matplotlib import pyplot as plt\n",
    "\n",
    "from sklearn.gaussian_process import GaussianProcessRegressor\n",
    "from sklearn.gaussian_process.kernels import RBF, ConstantKernel as C, ExpSineSquared, WhiteKernel\n",
    "\n",
    "# x_train = np.atleast_2d(x_train).T\n",
    "# x_test = np.atleast_2d(x_test)\n",
    "\n",
    "kernel =  RBF(1) + WhiteKernel(1e-1)\n",
    "gp = GaussianProcessRegressor(kernel=kernel, n_restarts_optimizer=9)\n",
    "\n",
    "# Fit to data using Maximum Likelihood Estimation of the parameters\n",
    "gp.fit(x_train, y_train)\n",
    "\n",
    "# Make the prediction on the meshed x-axis (ask for MSE as well)\n",
    "y_pred, sigma = gp.predict(x_test, return_std=True)\n",
    "\n",
    "# Plot the function, the prediction and the 95% confidence interval based on\n",
    "# the MSE\n",
    "plt.figure()\n",
    "plt.plot(x_train.numpy(), y_train.numpy(), 'rs', label='Train points')\n",
    "plt.plot(x_test.numpy(), y_test.numpy(), 'k.', markersize=10, label='Test points')\n",
    "plt.plot(x_test.numpy(), y_pred, 'b-', label='Test predictions')\n",
    "plt.fill(np.concatenate([x_test.numpy(), x_test.numpy()[::-1]]),\n",
    "         np.concatenate([y_pred - 1.9600 * sigma,\n",
    "                        (y_pred + 1.9600 * sigma)[::-1]]),\n",
    "         alpha=.5, fc='b', ec='None', label='95% confidence interval')\n",
    "plt.xlabel('$x$')\n",
    "plt.ylabel('$f(x)$')\n",
    "plt.legend(loc='upper left')\n",
    "plt.show()\n",
    "\n"
   ]
  },
  {
   "cell_type": "markdown",
   "metadata": {},
   "source": [
    "# Bayes-by-Backprop"
   ]
  },
  {
   "cell_type": "code",
   "execution_count": null,
   "metadata": {},
   "outputs": [
    {
     "name": "stderr",
     "output_type": "stream",
     "text": [
      "/Users/goncalves1/local/anaconda3/envs/mtl4c/lib/python3.7/site-packages/ipykernel_launcher.py:11: UserWarning: To copy construct from a tensor, it is recommended to use sourceTensor.clone().detach() or sourceTensor.clone().detach().requires_grad_(True), rather than torch.tensor(sourceTensor).\n",
      "  # This is added back by InteractiveShellApp.init_path()\n",
      "/Users/goncalves1/local/anaconda3/envs/mtl4c/lib/python3.7/site-packages/ipykernel_launcher.py:12: UserWarning: To copy construct from a tensor, it is recommended to use sourceTensor.clone().detach() or sourceTensor.clone().detach().requires_grad_(True), rather than torch.tensor(sourceTensor).\n",
      "  if sys.path[0] == '':\n",
      "  8%|▊         | 424/5000 [00:03<00:34, 131.10it/s]"
     ]
    }
   ],
   "source": [
    "from BBB_SMM import MLP_BBB\n",
    "\n",
    "prior_pi = 0.5\n",
    "prior_sigma1 = 1 \n",
    "prior_sigma2 = 10\n",
    "net = MLP_BBB(1, 1, [5, 5], prior_pi, prior_sigma1, prior_sigma2, noise_tol=0.02)\n",
    "\n",
    "net.to(DEVICE)\n",
    "net.train()\n",
    "\n",
    "data = torch.tensor(x_train, dtype=torch.float32).to(DEVICE)\n",
    "target = torch.tensor(y_train, dtype=torch.float32).to(DEVICE)\n",
    "\n",
    "optimizer = optim.Adam(net.parameters(), lr=1e-2)\n",
    "epochs = 5000\n",
    "\n",
    "loss_arr = list()\n",
    "for epoch in tqdm(range(epochs)):  # loop over the dataset multiple times\n",
    "    optimizer.zero_grad()\n",
    "    # forward + backward + optimize\n",
    "    loss = net.sample_elbo(data, target, 1)\n",
    "    loss.backward()\n",
    "    optimizer.step()\n",
    "    \n",
    "    loss_arr.append(loss.item())\n",
    "\n",
    "print('Finished Training')\n",
    "\n",
    "plt.plot(loss_arr)\n",
    "# plt.yscale('log')\n",
    "plt.title('Loss during training')\n",
    "plt.show()"
   ]
  },
  {
   "cell_type": "code",
   "execution_count": 8,
   "metadata": {},
   "outputs": [
    {
     "name": "stderr",
     "output_type": "stream",
     "text": [
      "/Users/goncalves1/local/anaconda3/envs/mtl4c/lib/python3.7/site-packages/ipykernel_launcher.py:4: UserWarning: To copy construct from a tensor, it is recommended to use sourceTensor.clone().detach() or sourceTensor.clone().detach().requires_grad_(True), rather than torch.tensor(sourceTensor).\n",
      "  after removing the cwd from sys.path.\n",
      "/Users/goncalves1/local/anaconda3/envs/mtl4c/lib/python3.7/site-packages/ipykernel_launcher.py:5: UserWarning: To copy construct from a tensor, it is recommended to use sourceTensor.clone().detach() or sourceTensor.clone().detach().requires_grad_(True), rather than torch.tensor(sourceTensor).\n",
      "  \"\"\"\n"
     ]
    },
    {
     "data": {
      "image/png": "[encoded data removed]",
      "text/plain": [
       "<Figure size 432x288 with 1 Axes>"
      ]
     },
     "metadata": {
      "needs_background": "light"
     },
     "output_type": "display_data"
    }
   ],
   "source": [
    "n_post_samples = 100\n",
    "post_dist = np.zeros((len(x_test), n_post_samples + 1)) \n",
    "\n",
    "data_ts = torch.tensor(x_test, dtype=torch.float32)\n",
    "target_ts = torch.tensor(y_test, dtype=torch.float32)\n",
    "\n",
    "net.eval()\n",
    "with torch.no_grad():\n",
    "    for j in range(n_post_samples): \n",
    "        post_dist[:, j] = net(data_ts).detach().numpy().ravel()\n",
    "    post_dist[:, n_post_samples] = net(data_ts).detach().numpy().ravel()\n",
    "\n",
    "y_mean = post_dist.mean(axis=1)\n",
    "sigma = post_dist.std(axis=1)\n",
    "\n",
    "plt.plot(x_train.numpy(), y_train.numpy(), 'k*', label='Train points')\n",
    "plt.plot(x_test.numpy(), y_test.numpy(), 'ro', label='Test points')\n",
    "plt.plot(x_test.numpy(), y_mean, 'b-', label='Test predictions')\n",
    "plt.fill(np.concatenate([x_test.numpy(), x_test.numpy()[::-1]]),\n",
    "         np.concatenate([y_mean - 1.9600 * sigma,\n",
    "                        (y_mean + 1.9600 * sigma)[::-1]]),\n",
    "         alpha=.5, fc='b', ec='None', label='95% confidence interval')\n",
    "plt.legend()\n",
    "plt.show()"
   ]
  },
  {
   "cell_type": "markdown",
   "metadata": {
    "heading_collapsed": true
   },
   "source": [
    "# Bayes-by-backprop - Learning Noise Variance"
   ]
  },
  {
   "cell_type": "code",
   "execution_count": null,
   "metadata": {
    "hidden": true
   },
   "outputs": [],
   "source": [
    "from BBB_v2 import MLP_BBB\n",
    "\n",
    "nnet = MLP_BBB(1, 1, [10, 10], prior_var=1, prior_noise_var=0.05)\n",
    "\n",
    "nnet.to(DEVICE)\n",
    "nnet.train()\n",
    "\n",
    "data = torch.tensor(x_train, dtype=torch.float32).to(DEVICE)\n",
    "target = torch.tensor(y_train, dtype=torch.float32).to(DEVICE)\n",
    "\n",
    "optimizer = optim.Adam(nnet.parameters(), lr=1e-2)\n",
    "epochs = 20000\n",
    "\n",
    "loss_arr = list()\n",
    "lr_arr = list()\n",
    "noise_arr = list()\n",
    "for epoch in tqdm(range(epochs)):  # loop over the dataset multiple times\n",
    "\n",
    "    optimizer.zero_grad()\n",
    "    \n",
    "    # forward + backward + optimize\n",
    "    loss = nnet.sample_elbo(data, target, 2)\n",
    "    loss.backward()\n",
    "    optimizer.step()\n",
    "    \n",
    "    noise_arr.append(nnet.noise)\n",
    "    loss_arr.append(loss.item())\n",
    "\n",
    "print('Finished Training')\n",
    "\n",
    "plt.plot(loss_arr)\n",
    "plt.yscale('log')\n",
    "plt.title('Loss during training')\n",
    "plt.show()"
   ]
  },
  {
   "cell_type": "code",
   "execution_count": null,
   "metadata": {
    "hidden": true
   },
   "outputs": [],
   "source": [
    "plt.plot(noise_arr)\n",
    "plt.show()"
   ]
  },
  {
   "cell_type": "code",
   "execution_count": null,
   "metadata": {
    "hidden": true
   },
   "outputs": [],
   "source": [
    "print('rho: {}'.format(nnet.noise))\n",
    "print('sigma: {}'.format(torch.log(1 + torch.exp(nnet.noise))))"
   ]
  },
  {
   "cell_type": "code",
   "execution_count": null,
   "metadata": {
    "hidden": true
   },
   "outputs": [],
   "source": [
    "n_post_samples = 100\n",
    "post_dist = np.zeros((len(x_test), n_post_samples + 1)) \n",
    "\n",
    "data_ts = torch.tensor(x_test, dtype=torch.float32)\n",
    "target_ts = torch.tensor(y_test, dtype=torch.float32)\n",
    "\n",
    "nnet.eval()\n",
    "with torch.no_grad():\n",
    "    for j in range(n_post_samples): \n",
    "        post_dist[:, j] = nnet(data_ts).detach().numpy().ravel()\n",
    "\n",
    "y_mean = post_dist.mean(axis=1)\n",
    "sigma = post_dist.std(axis=1)\n",
    "\n",
    "plt.plot(x_train, y_train, 'k*', label='Train points')\n",
    "plt.plot(x_test, y_test, 'ro', label='Test points')\n",
    "plt.plot(x_test, y_mean, 'b-', label='Test predictions')\n",
    "plt.fill(np.concatenate([x_test, x_test[::-1]]),\n",
    "         np.concatenate([y_mean - 1.9600 * sigma,\n",
    "                        (y_mean + 1.9600 * sigma)[::-1]]),\n",
    "         alpha=.5, fc='b', ec='None', label='95% confidence interval')\n",
    "plt.legend()\n",
    "plt.show()"
   ]
  },
  {
   "cell_type": "markdown",
   "metadata": {
    "heading_collapsed": true
   },
   "source": [
    "# Original Example"
   ]
  },
  {
   "cell_type": "code",
   "execution_count": null,
   "metadata": {
    "hidden": true
   },
   "outputs": [],
   "source": [
    "def toy_function(x):\n",
    "    return -x**4 + 3*x**2 + 1\n",
    "\n",
    "# toy dataset we can start with\n",
    "x = torch.tensor([-2, -1.8, -1, 1, 1.8, 2]).reshape(-1,1)\n",
    "y = toy_function(x)"
   ]
  },
  {
   "cell_type": "code",
   "execution_count": null,
   "metadata": {
    "hidden": true
   },
   "outputs": [],
   "source": [
    "from BBB import MLP_BBB\n",
    "\n",
    "net = MLP_BBB(1, 1, [32, ], prior_var=10, noise_tol=0.1)\n",
    "\n",
    "net.to(DEVICE)\n",
    "net.train()\n",
    "\n",
    "data = torch.tensor(x, dtype=torch.float32).to(DEVICE)\n",
    "target = torch.tensor(y, dtype=torch.float32).to(DEVICE)\n",
    "\n",
    "optimizer = optim.Adam(net.parameters(), lr=0.1)\n",
    "epochs = 2000\n",
    "\n",
    "loss_arr = list()\n",
    "for epoch in range(epochs):  # loop over the dataset multiple times\n",
    "    optimizer.zero_grad()\n",
    "    # forward + backward + optimize\n",
    "    loss = net.sample_elbo(data, target, 2)\n",
    "    loss.backward()\n",
    "    optimizer.step()\n",
    "    \n",
    "    loss_arr.append(loss.item())\n",
    "#     if epoch % 10 == 0:\n",
    "#         print('epoch: {}/{}'.format(epoch + 1, epochs))\n",
    "#         print('Loss:', loss.item())\n",
    "print('Finished Training')\n",
    "\n",
    "plt.plot(loss_arr)\n",
    "plt.yscale('log')\n",
    "plt.title('Loss during training')\n",
    "plt.show()"
   ]
  },
  {
   "cell_type": "code",
   "execution_count": null,
   "metadata": {
    "hidden": true
   },
   "outputs": [],
   "source": [
    "# samples is the number of \"predictions\" we make for 1 x-value.\n",
    "samples = 100\n",
    "x_tmp = torch.linspace(-5,5,100).reshape(-1,1)\n",
    "y_samp = np.zeros((samples,100))\n",
    "for s in range(samples):\n",
    "    y_tmp = net(x_tmp).detach().numpy()\n",
    "    y_samp[s] = y_tmp.reshape(-1)\n",
    "plt.plot(x_tmp.numpy(), np.mean(y_samp, axis = 0), label='Mean Posterior Predictive')\n",
    "plt.fill_between(x_tmp.numpy().reshape(-1), np.percentile(y_samp, 2.5, axis = 0), np.percentile(y_samp, 97.5, axis = 0), alpha = 0.25, label='95% Confidence')\n",
    "plt.legend()\n",
    "plt.scatter(x, toy_function(x))\n",
    "plt.title('Posterior Predictive')\n",
    "plt.show()"
   ]
  },
  {
   "cell_type": "markdown",
   "metadata": {
    "heading_collapsed": true
   },
   "source": [
    "# Concrete dropout"
   ]
  },
  {
   "cell_type": "code",
   "execution_count": null,
   "metadata": {
    "hidden": true
   },
   "outputs": [],
   "source": [
    "from torch.autograd import Variable\n",
    "from ConcreteDropout import Model, heteroscedastic_loss\n",
    "\n",
    "nb_features = x_train.shape[1]\n",
    "\n",
    "length_scale = 1e-4\n",
    "N = x_train.shape[0]\n",
    "wr = length_scale**2. / N\n",
    "dr = 2. / N\n",
    "    \n",
    "# cd_net = Model(nb_features, wr, dr)\n",
    "nb_epochs = 1000\n",
    "batch_size = N  # single batch\n",
    "\n",
    "input_size = 1\n",
    "output_size = 1\n",
    "hidden_units = [5, 5]\n",
    "\n",
    "cd_net = Model(input_size, output_size, hidden_units, wr, dr)\n",
    "optimizer = optim.Adam(cd_net.parameters(), lr=1e-2)\n",
    "\n",
    "loss_arr = list()\n",
    "for i in range(nb_epochs):\n",
    "    old_batch = 0\n",
    "    for batch in range(int(np.ceil(x_train.shape[0]/batch_size))):\n",
    "        batch = (batch + 1)\n",
    "        _x = x_train[old_batch: batch_size*batch]\n",
    "        _y = y_train[old_batch: batch_size*batch]\n",
    "\n",
    "        x_batch = Variable(torch.FloatTensor(_x))#.cuda()\n",
    "        y_batch = Variable(torch.FloatTensor(_y))#.cuda()\n",
    "\n",
    "        mean, log_var, regularization = cd_net(x_batch)\n",
    "\n",
    "        loss = heteroscedastic_loss(y_batch, mean, log_var) + regularization\n",
    "\n",
    "        optimizer.zero_grad()\n",
    "        loss.backward()\n",
    "        optimizer.step()\n",
    "        \n",
    "        loss_arr.append(loss.item())\n",
    "        \n",
    "plt.plot(loss_arr)\n",
    "plt.show()"
   ]
  },
  {
   "cell_type": "code",
   "execution_count": null,
   "metadata": {
    "hidden": true
   },
   "outputs": [],
   "source": [
    "n_post_samples = 100\n",
    "post_dist = np.zeros((len(x_test), n_post_samples + 1)) \n",
    "\n",
    "data_ts = torch.tensor(x_test, dtype=torch.float32)\n",
    "target_ts = torch.tensor(y_test, dtype=torch.float32)\n",
    "\n",
    "nnet.eval()\n",
    "with torch.no_grad():\n",
    "    for j in range(n_post_samples): \n",
    "        post_dist[:, j] = nnet(data_ts).detach().numpy().ravel()\n",
    "\n",
    "y_mean = post_dist.mean(axis=1)\n",
    "sigma = post_dist.std(axis=1)\n",
    "\n",
    "plt.plot(x_train, y_train, 'k*', label='Train points')\n",
    "plt.plot(x_test, y_test, 'ro', label='Test points')\n",
    "plt.plot(x_test, y_mean, 'b-', label='Test predictions')\n",
    "plt.fill(np.concatenate([x_test, x_test[::-1]]),\n",
    "         np.concatenate([y_mean - 1.9600 * sigma,\n",
    "                        (y_mean + 1.9600 * sigma)[::-1]]),\n",
    "         alpha=.5, fc='b', ec='None', label='95% confidence interval')\n",
    "plt.legend()\n",
    "plt.show()"
   ]
  },
  {
   "cell_type": "code",
   "execution_count": null,
   "metadata": {
    "hidden": true
   },
   "outputs": [],
   "source": []
  }
 ],
 "metadata": {
  "kernelspec": {
   "display_name": "Python 3",
   "language": "python",
   "name": "python3"
  },
  "language_info": {
   "codemirror_mode": {
    "name": "ipython",
    "version": 3
   },
   "file_extension": ".py",
   "mimetype": "text/x-python",
   "name": "python",
   "nbconvert_exporter": "python",
   "pygments_lexer": "ipython3",
   "version": "3.7.2"
  }
 },
 "nbformat": 4,
 "nbformat_minor": 2
}
